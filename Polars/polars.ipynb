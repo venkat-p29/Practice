{
 "cells": [
  {
   "cell_type": "code",
   "execution_count": 42,
   "metadata": {},
   "outputs": [],
   "source": [
    "import polars as pl\n",
    "\n",
    "movies_pl = pl.scan_csv('movies.csv')\n",
    "ratings_pl = pl.scan_csv('ratings.csv')\n",
    "tags_pl = pl.scan_csv('tags.csv')\n"
   ]
  },
  {
   "cell_type": "code",
   "execution_count": 5,
   "metadata": {},
   "outputs": [],
   "source": [
    "ratings_pl = ratings_pl.with_columns(\n",
    "    pl.from_epoch(pl.col('timestamp'), time_unit='s').alias('datetime_timestamp')\n",
    ").with_columns(\n",
    "    pl.col('datetime_timestamp').dt.year().alias('year'),\n",
    "    pl.col('datetime_timestamp').dt.month().alias('month')\n",
    ").lazy()\n"
   ]
  },
  {
   "cell_type": "code",
   "execution_count": 7,
   "metadata": {},
   "outputs": [
    {
     "data": {
      "text/html": [
       "<div><style>\n",
       ".dataframe > thead > tr,\n",
       ".dataframe > tbody > tr {\n",
       "  text-align: right;\n",
       "  white-space: pre-wrap;\n",
       "}\n",
       "</style>\n",
       "<small>shape: (20, 2)</small><table border=\"1\" class=\"dataframe\"><thead><tr><th>year</th><th># ratings</th></tr><tr><td>i32</td><td>u32</td></tr></thead><tbody><tr><td>2018</td><td>6418</td></tr><tr><td>2017</td><td>8198</td></tr><tr><td>2016</td><td>6703</td></tr><tr><td>2015</td><td>6616</td></tr><tr><td>2014</td><td>1439</td></tr><tr><td>&hellip;</td><td>&hellip;</td></tr><tr><td>2003</td><td>4014</td></tr><tr><td>2002</td><td>3478</td></tr><tr><td>2001</td><td>3922</td></tr><tr><td>2000</td><td>10061</td></tr><tr><td>1999</td><td>2439</td></tr></tbody></table></div>"
      ],
      "text/plain": [
       "shape: (20, 2)\n",
       "┌──────┬───────────┐\n",
       "│ year ┆ # ratings │\n",
       "│ ---  ┆ ---       │\n",
       "│ i32  ┆ u32       │\n",
       "╞══════╪═══════════╡\n",
       "│ 2018 ┆ 6418      │\n",
       "│ 2017 ┆ 8198      │\n",
       "│ 2016 ┆ 6703      │\n",
       "│ 2015 ┆ 6616      │\n",
       "│ 2014 ┆ 1439      │\n",
       "│ …    ┆ …         │\n",
       "│ 2003 ┆ 4014      │\n",
       "│ 2002 ┆ 3478      │\n",
       "│ 2001 ┆ 3922      │\n",
       "│ 2000 ┆ 10061     │\n",
       "│ 1999 ┆ 2439      │\n",
       "└──────┴───────────┘"
      ]
     },
     "execution_count": 7,
     "metadata": {},
     "output_type": "execute_result"
    }
   ],
   "source": [
    "# a. Show the aggregated number of ratings per year\n",
    "\n",
    "ratings_by_year = ratings_pl.group_by('year').agg(\n",
    "    pl.count('rating').alias('# ratings')\n",
    ").sort('year', descending=True)\n",
    "\n",
    "ratings_by_year.collect().head(20)"
   ]
  },
  {
   "cell_type": "code",
   "execution_count": 8,
   "metadata": {},
   "outputs": [
    {
     "data": {
      "text/html": [
       "<div><style>\n",
       ".dataframe > thead > tr,\n",
       ".dataframe > tbody > tr {\n",
       "  text-align: right;\n",
       "  white-space: pre-wrap;\n",
       "}\n",
       "</style>\n",
       "<small>shape: (20, 3)</small><table border=\"1\" class=\"dataframe\"><thead><tr><th>month</th><th>year</th><th># ratings</th></tr><tr><td>i8</td><td>i32</td><td>f64</td></tr></thead><tbody><tr><td>9</td><td>2018</td><td>3.568709</td></tr><tr><td>8</td><td>2018</td><td>3.557762</td></tr><tr><td>7</td><td>2018</td><td>4.010239</td></tr><tr><td>6</td><td>2018</td><td>3.979714</td></tr><tr><td>5</td><td>2018</td><td>2.95163</td></tr><tr><td>&hellip;</td><td>&hellip;</td><td>&hellip;</td></tr><tr><td>6</td><td>2017</td><td>2.959424</td></tr><tr><td>5</td><td>2017</td><td>3.480184</td></tr><tr><td>4</td><td>2017</td><td>3.626219</td></tr><tr><td>3</td><td>2017</td><td>3.051002</td></tr><tr><td>2</td><td>2017</td><td>2.754762</td></tr></tbody></table></div>"
      ],
      "text/plain": [
       "shape: (20, 3)\n",
       "┌───────┬──────┬───────────┐\n",
       "│ month ┆ year ┆ # ratings │\n",
       "│ ---   ┆ ---  ┆ ---       │\n",
       "│ i8    ┆ i32  ┆ f64       │\n",
       "╞═══════╪══════╪═══════════╡\n",
       "│ 9     ┆ 2018 ┆ 3.568709  │\n",
       "│ 8     ┆ 2018 ┆ 3.557762  │\n",
       "│ 7     ┆ 2018 ┆ 4.010239  │\n",
       "│ 6     ┆ 2018 ┆ 3.979714  │\n",
       "│ 5     ┆ 2018 ┆ 2.95163   │\n",
       "│ …     ┆ …    ┆ …         │\n",
       "│ 6     ┆ 2017 ┆ 2.959424  │\n",
       "│ 5     ┆ 2017 ┆ 3.480184  │\n",
       "│ 4     ┆ 2017 ┆ 3.626219  │\n",
       "│ 3     ┆ 2017 ┆ 3.051002  │\n",
       "│ 2     ┆ 2017 ┆ 2.754762  │\n",
       "└───────┴──────┴───────────┘"
      ]
     },
     "execution_count": 8,
     "metadata": {},
     "output_type": "execute_result"
    }
   ],
   "source": [
    "# b. Show the average monthly number of ratings\n",
    "\n",
    "avg_monthly = ratings_pl.group_by('month', 'year').agg(\n",
    "    pl.mean('rating').alias('# ratings')\n",
    ").sort(['year', 'month'], descending=True)\n",
    "\n",
    "avg_monthly.collect().head(20)\n"
   ]
  },
  {
   "cell_type": "code",
   "execution_count": 117,
   "metadata": {},
   "outputs": [
    {
     "data": {
      "text/html": [
       "<div><style>\n",
       ".dataframe > thead > tr,\n",
       ".dataframe > tbody > tr {\n",
       "  text-align: right;\n",
       "  white-space: pre-wrap;\n",
       "}\n",
       "</style>\n",
       "<small>shape: (3, 2)</small><table border=\"1\" class=\"dataframe\"><thead><tr><th>rating_bucket</th><th>count</th></tr><tr><td>str</td><td>u32</td></tr></thead><tbody><tr><td>&quot;0-2&quot;</td><td>13523</td></tr><tr><td>&quot;2.5-4&quot;</td><td>65551</td></tr><tr><td>&quot;&gt;4&quot;</td><td>21762</td></tr></tbody></table></div>"
      ],
      "text/plain": [
       "shape: (3, 2)\n",
       "┌───────────────┬───────┐\n",
       "│ rating_bucket ┆ count │\n",
       "│ ---           ┆ ---   │\n",
       "│ str           ┆ u32   │\n",
       "╞═══════════════╪═══════╡\n",
       "│ 0-2           ┆ 13523 │\n",
       "│ 2.5-4         ┆ 65551 │\n",
       "│ >4            ┆ 21762 │\n",
       "└───────────────┴───────┘"
      ]
     },
     "execution_count": 117,
     "metadata": {},
     "output_type": "execute_result"
    }
   ],
   "source": [
    "# c. Show the rating levels distribution\n",
    "\n",
    "ratings_pl.with_columns(\n",
    "    pl.when(pl.col('rating').is_between(0, 2))\n",
    "    .then(pl.lit('0-2'))\n",
    "    .when(pl.col('rating').is_between(2.3, 4))\n",
    "    .then(pl.lit('2.5-4'))\n",
    "    .otherwise(pl.lit('>4'))\n",
    "    .alias('rating_bucket')\n",
    ").select(\n",
    "  'rating_bucket',\n",
    "  pl.count('rating').over('rating_bucket').alias('count')\n",
    ").unique().sort('rating_bucket').collect()\n"
   ]
  },
  {
   "cell_type": "code",
   "execution_count": 108,
   "metadata": {},
   "outputs": [
    {
     "data": {
      "text/html": [
       "<div><style>\n",
       ".dataframe > thead > tr,\n",
       ".dataframe > tbody > tr {\n",
       "  text-align: right;\n",
       "  white-space: pre-wrap;\n",
       "}\n",
       "</style>\n",
       "<small>shape: (3, 3)</small><table border=\"1\" class=\"dataframe\"><thead><tr><th>foo</th><th>bar</th><th>val</th></tr><tr><td>i64</td><td>i64</td><td>i32</td></tr></thead><tbody><tr><td>1</td><td>3</td><td>-1</td></tr><tr><td>3</td><td>4</td><td>1</td></tr><tr><td>4</td><td>0</td><td>1</td></tr></tbody></table></div>"
      ],
      "text/plain": [
       "shape: (3, 3)\n",
       "┌─────┬─────┬─────┐\n",
       "│ foo ┆ bar ┆ val │\n",
       "│ --- ┆ --- ┆ --- │\n",
       "│ i64 ┆ i64 ┆ i32 │\n",
       "╞═════╪═════╪═════╡\n",
       "│ 1   ┆ 3   ┆ -1  │\n",
       "│ 3   ┆ 4   ┆ 1   │\n",
       "│ 4   ┆ 0   ┆ 1   │\n",
       "└─────┴─────┴─────┘"
      ]
     },
     "execution_count": 108,
     "metadata": {},
     "output_type": "execute_result"
    }
   ],
   "source": [
    "df = pl.DataFrame({\"foo\": [1, 3, 4], \"bar\": [3, 4, 0]}).lazy()\n",
    "\n",
    "df.with_columns(pl.when(pl.col(\"foo\") > 2).then(1).otherwise(-1).alias(\"val\")).collect()"
   ]
  },
  {
   "cell_type": "code",
   "execution_count": 9,
   "metadata": {},
   "outputs": [
    {
     "data": {
      "text/html": [
       "<div><style>\n",
       ".dataframe > thead > tr,\n",
       ".dataframe > tbody > tr {\n",
       "  text-align: right;\n",
       "  white-space: pre-wrap;\n",
       "}\n",
       "</style>\n",
       "<small>shape: (18, 1)</small><table border=\"1\" class=\"dataframe\"><thead><tr><th>title</th></tr><tr><td>str</td></tr></thead><tbody><tr><td>&quot;Browning Version, The (1951)&quot;</td></tr><tr><td>&quot;Call Northside 777 (1948)&quot;</td></tr><tr><td>&quot;Chalet Girl (2011)&quot;</td></tr><tr><td>&quot;Chosen, The (1981)&quot;</td></tr><tr><td>&quot;Color of Paradise, The (Rang-e…</td></tr><tr><td>&hellip;</td></tr><tr><td>&quot;Road Home, The (Wo de fu qin m…</td></tr><tr><td>&quot;Roaring Twenties, The (1939)&quot;</td></tr><tr><td>&quot;Scrooge (1970)&quot;</td></tr><tr><td>&quot;This Gun for Hire (1942)&quot;</td></tr><tr><td>&quot;Twentieth Century (1934)&quot;</td></tr></tbody></table></div>"
      ],
      "text/plain": [
       "shape: (18, 1)\n",
       "┌─────────────────────────────────┐\n",
       "│ title                           │\n",
       "│ ---                             │\n",
       "│ str                             │\n",
       "╞═════════════════════════════════╡\n",
       "│ Browning Version, The (1951)    │\n",
       "│ Call Northside 777 (1948)       │\n",
       "│ Chalet Girl (2011)              │\n",
       "│ Chosen, The (1981)              │\n",
       "│ Color of Paradise, The (Rang-e… │\n",
       "│ …                               │\n",
       "│ Road Home, The (Wo de fu qin m… │\n",
       "│ Roaring Twenties, The (1939)    │\n",
       "│ Scrooge (1970)                  │\n",
       "│ This Gun for Hire (1942)        │\n",
       "│ Twentieth Century (1934)        │\n",
       "└─────────────────────────────────┘"
      ]
     },
     "execution_count": 9,
     "metadata": {},
     "output_type": "execute_result"
    }
   ],
   "source": [
    "# d. Show the 18 movies that are tagged but not rated\n",
    "\n",
    "tags_pl_joined = tags_pl.join(ratings_pl, on='movieId', how='left').filter(pl.col('rating').is_null())\n",
    "tags_pl_joined.join(movies_pl, on='movieId', how='inner').select(pl.col('title')).unique().sort('title').collect()"
   ]
  },
  {
   "cell_type": "code",
   "execution_count": 10,
   "metadata": {},
   "outputs": [
    {
     "data": {
      "text/html": [
       "<div><style>\n",
       ".dataframe > thead > tr,\n",
       ".dataframe > tbody > tr {\n",
       "  text-align: right;\n",
       "  white-space: pre-wrap;\n",
       "}\n",
       "</style>\n",
       "<small>shape: (20, 1)</small><table border=\"1\" class=\"dataframe\"><thead><tr><th>title</th></tr><tr><td>str</td></tr></thead><tbody><tr><td>&quot;&#x27;71 (2014)&quot;</td></tr><tr><td>&quot;&#x27;Hellboy&#x27;: The Seeds of Creati…</td></tr><tr><td>&quot;&#x27;Round Midnight (1986)&quot;</td></tr><tr><td>&quot;&#x27;Salem&#x27;s Lot (2004)&quot;</td></tr><tr><td>&quot;&#x27;Til There Was You (1997)&quot;</td></tr><tr><td>&hellip;</td></tr><tr><td>&quot;10 Years (2011)&quot;</td></tr><tr><td>&quot;10,000 BC (2008)&quot;</td></tr><tr><td>&quot;100 Girls (2000)&quot;</td></tr><tr><td>&quot;100 Streets (2016)&quot;</td></tr><tr><td>&quot;101 Dalmatians II: Patch&#x27;s Lon…</td></tr></tbody></table></div>"
      ],
      "text/plain": [
       "shape: (20, 1)\n",
       "┌─────────────────────────────────┐\n",
       "│ title                           │\n",
       "│ ---                             │\n",
       "│ str                             │\n",
       "╞═════════════════════════════════╡\n",
       "│ '71 (2014)                      │\n",
       "│ 'Hellboy': The Seeds of Creati… │\n",
       "│ 'Round Midnight (1986)          │\n",
       "│ 'Salem's Lot (2004)             │\n",
       "│ 'Til There Was You (1997)       │\n",
       "│ …                               │\n",
       "│ 10 Years (2011)                 │\n",
       "│ 10,000 BC (2008)                │\n",
       "│ 100 Girls (2000)                │\n",
       "│ 100 Streets (2016)              │\n",
       "│ 101 Dalmatians II: Patch's Lon… │\n",
       "└─────────────────────────────────┘"
      ]
     },
     "execution_count": 10,
     "metadata": {},
     "output_type": "execute_result"
    }
   ],
   "source": [
    "# e. Show the movies that have rating but no tag\n",
    "\n",
    "#.select('movieId').unique()\n",
    "ratings_pl_joined = ratings_pl.join(tags_pl, on='movieId', how='left').filter(pl.col('tag').is_null())\n",
    "ratings_pl_joined.join(movies_pl, on='movieId', how='inner').select(pl.col('title')).unique().sort('title').collect().head(20)"
   ]
  },
  {
   "cell_type": "code",
   "execution_count": 11,
   "metadata": {},
   "outputs": [
    {
     "data": {
      "text/html": [
       "<div><style>\n",
       ".dataframe > thead > tr,\n",
       ".dataframe > tbody > tr {\n",
       "  text-align: right;\n",
       "  white-space: pre-wrap;\n",
       "}\n",
       "</style>\n",
       "<small>shape: (10, 3)</small><table border=\"1\" class=\"dataframe\"><thead><tr><th>title</th><th>avg_ratings</th><th># ratings</th></tr><tr><td>str</td><td>f64</td><td>u32</td></tr></thead><tbody><tr><td>&quot;American Beauty (1999)&quot;</td><td>4.056373</td><td>204</td></tr><tr><td>&quot;Ace Ventura: Pet Detective (19…</td><td>3.040373</td><td>161</td></tr><tr><td>&quot;Mask, The (1994)&quot;</td><td>3.184713</td><td>157</td></tr><tr><td>&quot;Die Hard (1988)&quot;</td><td>3.862069</td><td>145</td></tr><tr><td>&quot;Die Hard: With a Vengeance (19…</td><td>3.555556</td><td>144</td></tr><tr><td>&quot;Groundhog Day (1993)&quot;</td><td>3.944056</td><td>143</td></tr><tr><td>&quot;Dumb &amp; Dumber (Dumb and Dumber…</td><td>3.06015</td><td>133</td></tr><tr><td>&quot;GoldenEye (1995)&quot;</td><td>3.496212</td><td>132</td></tr><tr><td>&quot;Monsters, Inc. (2001)&quot;</td><td>3.871212</td><td>132</td></tr><tr><td>&quot;Austin Powers: The Spy Who Sha…</td><td>3.198347</td><td>121</td></tr></tbody></table></div>"
      ],
      "text/plain": [
       "shape: (10, 3)\n",
       "┌─────────────────────────────────┬─────────────┬───────────┐\n",
       "│ title                           ┆ avg_ratings ┆ # ratings │\n",
       "│ ---                             ┆ ---         ┆ ---       │\n",
       "│ str                             ┆ f64         ┆ u32       │\n",
       "╞═════════════════════════════════╪═════════════╪═══════════╡\n",
       "│ American Beauty (1999)          ┆ 4.056373    ┆ 204       │\n",
       "│ Ace Ventura: Pet Detective (19… ┆ 3.040373    ┆ 161       │\n",
       "│ Mask, The (1994)                ┆ 3.184713    ┆ 157       │\n",
       "│ Die Hard (1988)                 ┆ 3.862069    ┆ 145       │\n",
       "│ Die Hard: With a Vengeance (19… ┆ 3.555556    ┆ 144       │\n",
       "│ Groundhog Day (1993)            ┆ 3.944056    ┆ 143       │\n",
       "│ Dumb & Dumber (Dumb and Dumber… ┆ 3.06015     ┆ 133       │\n",
       "│ GoldenEye (1995)                ┆ 3.496212    ┆ 132       │\n",
       "│ Monsters, Inc. (2001)           ┆ 3.871212    ┆ 132       │\n",
       "│ Austin Powers: The Spy Who Sha… ┆ 3.198347    ┆ 121       │\n",
       "└─────────────────────────────────┴─────────────┴───────────┘"
      ]
     },
     "execution_count": 11,
     "metadata": {},
     "output_type": "execute_result"
    }
   ],
   "source": [
    "# f. Focusing on the rated untagged movies with more than 30 user ratings,show the top 10 movies in terms of average rating and number of ratings\n",
    "\n",
    "rated_untagged = ratings_pl_joined.group_by('movieId').agg(\n",
    "    pl.count('rating').alias('# ratings'),\n",
    "    pl.mean('rating').alias('avg_ratings')\n",
    ").filter(\n",
    "    pl.col('# ratings') > 30\n",
    ")\n",
    "\n",
    "rated_untagged = rated_untagged.join(movies_pl, on='movieId', how='inner').select(pl.col('title'), pl.col('avg_ratings'), pl.col('# ratings'))\n",
    "rated_untagged.sort('avg_ratings', descending=True).collect().head(10)\n",
    "rated_untagged.sort('# ratings', descending=True).collect().head(10)\n"
   ]
  },
  {
   "cell_type": "code",
   "execution_count": 13,
   "metadata": {},
   "outputs": [
    {
     "data": {
      "text/html": [
       "<div><style>\n",
       ".dataframe > thead > tr,\n",
       ".dataframe > tbody > tr {\n",
       "  text-align: right;\n",
       "  white-space: pre-wrap;\n",
       "}\n",
       "</style>\n",
       "<small>shape: (4, 1)</small><table border=\"1\" class=\"dataframe\"><thead><tr><th>userId</th></tr><tr><td>i64</td></tr></thead><tbody><tr><td>318</td></tr><tr><td>474</td></tr><tr><td>543</td></tr><tr><td>288</td></tr></tbody></table></div>"
      ],
      "text/plain": [
       "shape: (4, 1)\n",
       "┌────────┐\n",
       "│ userId │\n",
       "│ ---    │\n",
       "│ i64    │\n",
       "╞════════╡\n",
       "│ 318    │\n",
       "│ 474    │\n",
       "│ 543    │\n",
       "│ 288    │\n",
       "└────────┘"
      ]
     },
     "execution_count": 13,
     "metadata": {},
     "output_type": "execute_result"
    }
   ],
   "source": [
    "# g. Identify the users that tagged movies without rating them\n",
    "\n",
    "tags_pl_joined = tags_pl.join(ratings_pl, on='movieId', how='left').filter(pl.col('rating').is_null())\n",
    "tags_pl_joined.select(pl.col('userId')).unique().collect()"
   ]
  },
  {
   "cell_type": "code",
   "execution_count": 14,
   "metadata": {},
   "outputs": [
    {
     "data": {
      "text/html": [
       "<div><style>\n",
       ".dataframe > thead > tr,\n",
       ".dataframe > tbody > tr {\n",
       "  text-align: right;\n",
       "  white-space: pre-wrap;\n",
       "}\n",
       "</style>\n",
       "<small>shape: (1, 1)</small><table border=\"1\" class=\"dataframe\"><thead><tr><th>avg_no_of_ratings_per_user</th></tr><tr><td>f64</td></tr></thead><tbody><tr><td>10.37</td></tr></tbody></table></div>"
      ],
      "text/plain": [
       "shape: (1, 1)\n",
       "┌────────────────────────────┐\n",
       "│ avg_no_of_ratings_per_user │\n",
       "│ ---                        │\n",
       "│ f64                        │\n",
       "╞════════════════════════════╡\n",
       "│ 10.37                      │\n",
       "└────────────────────────────┘"
      ]
     },
     "execution_count": 14,
     "metadata": {},
     "output_type": "execute_result"
    }
   ],
   "source": [
    "# h. What is the average number of ratings per user in ratings DF? And the average number of ratings per movie?\n",
    "\n",
    "ratings_pl = ratings_pl.filter(pl.col('rating').is_not_null())\n",
    "\n",
    "ratings_pl.select(\n",
    "    'userId',\n",
    "    pl.col('rating').count().alias('# ratings'),\n",
    "    pl.col('userId').unique().count().alias('# users')\n",
    ").select(\n",
    "    (pl.col('# ratings') / pl.col('# users')).round(3).alias('avg_no_of_ratings_per_user')\n",
    ").collect()\n",
    "\n",
    "ratings_pl.select(\n",
    "    'userId',\n",
    "    pl.col('rating').count().alias('# ratings'),\n",
    "    pl.col('movieId').unique().count().alias('# users')\n",
    ").select(\n",
    "    (pl.col('# ratings') / pl.col('# users')).round(3).alias('avg_no_of_ratings_per_user')\n",
    ").collect()\n"
   ]
  },
  {
   "cell_type": "code",
   "execution_count": 96,
   "metadata": {},
   "outputs": [
    {
     "data": {
      "text/html": [
       "<div><style>\n",
       ".dataframe > thead > tr,\n",
       ".dataframe > tbody > tr {\n",
       "  text-align: right;\n",
       "  white-space: pre-wrap;\n",
       "}\n",
       "</style>\n",
       "<small>shape: (10, 4)</small><table border=\"1\" class=\"dataframe\"><thead><tr><th>genres</th><th>rating</th><th>counts</th><th>rank</th></tr><tr><td>str</td><td>f64</td><td>u32</td><td>u32</td></tr></thead><tbody><tr><td>&quot;Drama&quot;</td><td>5.0</td><td>895</td><td>1</td></tr><tr><td>&quot;Drama&quot;</td><td>4.5</td><td>593</td><td>1</td></tr><tr><td>&quot;Drama&quot;</td><td>4.0</td><td>2055</td><td>1</td></tr><tr><td>&quot;Comedy&quot;</td><td>3.5</td><td>854</td><td>1</td></tr><tr><td>&quot;Comedy&quot;</td><td>3.0</td><td>1614</td><td>1</td></tr><tr><td>&quot;Comedy&quot;</td><td>2.5</td><td>515</td><td>1</td></tr><tr><td>&quot;Comedy&quot;</td><td>2.0</td><td>828</td><td>1</td></tr><tr><td>&quot;Comedy&quot;</td><td>1.5</td><td>256</td><td>1</td></tr><tr><td>&quot;Comedy&quot;</td><td>1.0</td><td>348</td><td>1</td></tr><tr><td>&quot;Comedy&quot;</td><td>0.5</td><td>136</td><td>1</td></tr></tbody></table></div>"
      ],
      "text/plain": [
       "shape: (10, 4)\n",
       "┌────────┬────────┬────────┬──────┐\n",
       "│ genres ┆ rating ┆ counts ┆ rank │\n",
       "│ ---    ┆ ---    ┆ ---    ┆ ---  │\n",
       "│ str    ┆ f64    ┆ u32    ┆ u32  │\n",
       "╞════════╪════════╪════════╪══════╡\n",
       "│ Drama  ┆ 5.0    ┆ 895    ┆ 1    │\n",
       "│ Drama  ┆ 4.5    ┆ 593    ┆ 1    │\n",
       "│ Drama  ┆ 4.0    ┆ 2055   ┆ 1    │\n",
       "│ Comedy ┆ 3.5    ┆ 854    ┆ 1    │\n",
       "│ Comedy ┆ 3.0    ┆ 1614   ┆ 1    │\n",
       "│ Comedy ┆ 2.5    ┆ 515    ┆ 1    │\n",
       "│ Comedy ┆ 2.0    ┆ 828    ┆ 1    │\n",
       "│ Comedy ┆ 1.5    ┆ 256    ┆ 1    │\n",
       "│ Comedy ┆ 1.0    ┆ 348    ┆ 1    │\n",
       "│ Comedy ┆ 0.5    ┆ 136    ┆ 1    │\n",
       "└────────┴────────┴────────┴──────┘"
      ]
     },
     "execution_count": 96,
     "metadata": {},
     "output_type": "execute_result"
    }
   ],
   "source": [
    "# i. What is the predominant (frequency based) genre per rating level?\n",
    "\n",
    "ratings_pl.join(movies_pl, on='movieId', how='left').group_by(['genres', 'rating']).agg(\n",
    "    pl.len().alias(\"counts\")\n",
    ").with_columns(\n",
    "    pl.col('counts')\n",
    "    .rank('dense', descending=True)\n",
    "    .over('rating')\n",
    "    .alias(\"rank\")\n",
    ").sort('rating', descending=True).filter(\n",
    "    pl.col('rank') == 1\n",
    ").collect()\n"
   ]
  },
  {
   "cell_type": "code",
   "execution_count": 95,
   "metadata": {},
   "outputs": [
    {
     "data": {
      "text/html": [
       "<div><style>\n",
       ".dataframe > thead > tr,\n",
       ".dataframe > tbody > tr {\n",
       "  text-align: right;\n",
       "  white-space: pre-wrap;\n",
       "}\n",
       "</style>\n",
       "<small>shape: (1_200, 4)</small><table border=\"1\" class=\"dataframe\"><thead><tr><th>genres</th><th>tag</th><th>counts</th><th>rank</th></tr><tr><td>str</td><td>str</td><td>u32</td><td>u32</td></tr></thead><tbody><tr><td>&quot;Western&quot;</td><td>null</td><td>21</td><td>1</td></tr><tr><td>&quot;War&quot;</td><td>null</td><td>4</td><td>1</td></tr><tr><td>&quot;Thriller&quot;</td><td>null</td><td>75</td><td>1</td></tr><tr><td>&quot;Sci-Fi|Thriller|IMAX&quot;</td><td>null</td><td>1</td><td>1</td></tr><tr><td>&quot;Sci-Fi|Thriller&quot;</td><td>null</td><td>22</td><td>1</td></tr><tr><td>&hellip;</td><td>&hellip;</td><td>&hellip;</td><td>&hellip;</td></tr><tr><td>&quot;Action|Adventure|Animation|Chi…</td><td>null</td><td>6</td><td>1</td></tr><tr><td>&quot;Action|Adventure|Animation&quot;</td><td>null</td><td>18</td><td>1</td></tr><tr><td>&quot;Action|Adventure&quot;</td><td>null</td><td>29</td><td>1</td></tr><tr><td>&quot;Action&quot;</td><td>null</td><td>60</td><td>1</td></tr><tr><td>&quot;(no genres listed)&quot;</td><td>null</td><td>33</td><td>1</td></tr></tbody></table></div>"
      ],
      "text/plain": [
       "shape: (1_200, 4)\n",
       "┌─────────────────────────────────┬──────┬────────┬──────┐\n",
       "│ genres                          ┆ tag  ┆ counts ┆ rank │\n",
       "│ ---                             ┆ ---  ┆ ---    ┆ ---  │\n",
       "│ str                             ┆ str  ┆ u32    ┆ u32  │\n",
       "╞═════════════════════════════════╪══════╪════════╪══════╡\n",
       "│ Western                         ┆ null ┆ 21     ┆ 1    │\n",
       "│ War                             ┆ null ┆ 4      ┆ 1    │\n",
       "│ Thriller                        ┆ null ┆ 75     ┆ 1    │\n",
       "│ Sci-Fi|Thriller|IMAX            ┆ null ┆ 1      ┆ 1    │\n",
       "│ Sci-Fi|Thriller                 ┆ null ┆ 22     ┆ 1    │\n",
       "│ …                               ┆ …    ┆ …      ┆ …    │\n",
       "│ Action|Adventure|Animation|Chi… ┆ null ┆ 6      ┆ 1    │\n",
       "│ Action|Adventure|Animation      ┆ null ┆ 18     ┆ 1    │\n",
       "│ Action|Adventure                ┆ null ┆ 29     ┆ 1    │\n",
       "│ Action                          ┆ null ┆ 60     ┆ 1    │\n",
       "│ (no genres listed)              ┆ null ┆ 33     ┆ 1    │\n",
       "└─────────────────────────────────┴──────┴────────┴──────┘"
      ]
     },
     "execution_count": 95,
     "metadata": {},
     "output_type": "execute_result"
    }
   ],
   "source": [
    "# j. Predominant tag per genre\n",
    "\n",
    "joined_df = movies_pl.join(tags_pl, on='movieId', how='left')\n",
    "joined_df.group_by(['genres', 'tag']).agg(\n",
    "    pl.len().alias(\"counts\")\n",
    ").with_columns(\n",
    "    pl.col('counts')\n",
    "    .rank('dense', descending=True)\n",
    "    .over('genres')\n",
    "    .alias(\"rank\")\n",
    ").sort('genres', descending=True).filter(\n",
    "    pl.col('rank') == 1\n",
    ").collect()\n"
   ]
  },
  {
   "cell_type": "code",
   "execution_count": 52,
   "metadata": {},
   "outputs": [
    {
     "data": {
      "text/html": [
       "<div><style>\n",
       ".dataframe > thead > tr,\n",
       ".dataframe > tbody > tr {\n",
       "  text-align: right;\n",
       "  white-space: pre-wrap;\n",
       "}\n",
       "</style>\n",
       "<small>shape: (10, 3)</small><table border=\"1\" class=\"dataframe\"><thead><tr><th>title</th><th>counts</th><th>rn</th></tr><tr><td>str</td><td>u32</td><td>u32</td></tr></thead><tbody><tr><td>&quot;Forrest Gump (1994)&quot;</td><td>329</td><td>1</td></tr><tr><td>&quot;Shawshank Redemption, The (199…</td><td>317</td><td>2</td></tr><tr><td>&quot;Pulp Fiction (1994)&quot;</td><td>307</td><td>3</td></tr><tr><td>&quot;Silence of the Lambs, The (199…</td><td>279</td><td>4</td></tr><tr><td>&quot;Matrix, The (1999)&quot;</td><td>278</td><td>5</td></tr><tr><td>&quot;Star Wars: Episode IV - A New …</td><td>251</td><td>6</td></tr><tr><td>&quot;Jurassic Park (1993)&quot;</td><td>238</td><td>7</td></tr><tr><td>&quot;Braveheart (1995)&quot;</td><td>237</td><td>8</td></tr><tr><td>&quot;Terminator 2: Judgment Day (19…</td><td>224</td><td>9</td></tr><tr><td>&quot;Schindler&#x27;s List (1993)&quot;</td><td>220</td><td>10</td></tr></tbody></table></div>"
      ],
      "text/plain": [
       "shape: (10, 3)\n",
       "┌─────────────────────────────────┬────────┬─────┐\n",
       "│ title                           ┆ counts ┆ rn  │\n",
       "│ ---                             ┆ ---    ┆ --- │\n",
       "│ str                             ┆ u32    ┆ u32 │\n",
       "╞═════════════════════════════════╪════════╪═════╡\n",
       "│ Forrest Gump (1994)             ┆ 329    ┆ 1   │\n",
       "│ Shawshank Redemption, The (199… ┆ 317    ┆ 2   │\n",
       "│ Pulp Fiction (1994)             ┆ 307    ┆ 3   │\n",
       "│ Silence of the Lambs, The (199… ┆ 279    ┆ 4   │\n",
       "│ Matrix, The (1999)              ┆ 278    ┆ 5   │\n",
       "│ Star Wars: Episode IV - A New … ┆ 251    ┆ 6   │\n",
       "│ Jurassic Park (1993)            ┆ 238    ┆ 7   │\n",
       "│ Braveheart (1995)               ┆ 237    ┆ 8   │\n",
       "│ Terminator 2: Judgment Day (19… ┆ 224    ┆ 9   │\n",
       "│ Schindler's List (1993)         ┆ 220    ┆ 10  │\n",
       "└─────────────────────────────────┴────────┴─────┘"
      ]
     },
     "execution_count": 52,
     "metadata": {},
     "output_type": "execute_result"
    }
   ],
   "source": [
    "# k. Top 10 popular movies (most users seen/rated it)\n",
    "\n",
    "ratings_pl.join(movies_pl, left_on=\"movieId\", right_on=\"movieId\", how=\"left\").unique().select(\n",
    "        'title',\n",
    "        pl.count('userId').over('title').alias('counts')\n",
    "    ).unique().with_columns(\n",
    "      rn = pl.col('counts').rank('dense', descending=True)\n",
    "    ).filter(\n",
    "      pl.col('rn') <= 10\n",
    ").sort('rn').collect()\n"
   ]
  },
  {
   "cell_type": "code",
   "execution_count": 97,
   "metadata": {},
   "outputs": [
    {
     "data": {
      "text/html": [
       "<div><style>\n",
       ".dataframe > thead > tr,\n",
       ".dataframe > tbody > tr {\n",
       "  text-align: right;\n",
       "  white-space: pre-wrap;\n",
       "}\n",
       "</style>\n",
       "<small>shape: (10, 4)</small><table border=\"1\" class=\"dataframe\"><thead><tr><th>title</th><th>counts</th><th>avg_rating</th><th>rn</th></tr><tr><td>str</td><td>u32</td><td>f64</td><td>u32</td></tr></thead><tbody><tr><td>&quot;Shawshank Redemption, The (199…</td><td>317</td><td>4.429022</td><td>1</td></tr><tr><td>&quot;Lawrence of Arabia (1962)&quot;</td><td>45</td><td>4.3</td><td>2</td></tr><tr><td>&quot;Godfather, The (1972)&quot;</td><td>192</td><td>4.2890625</td><td>3</td></tr><tr><td>&quot;Fight Club (1999)&quot;</td><td>218</td><td>4.272936</td><td>4</td></tr><tr><td>&quot;Cool Hand Luke (1967)&quot;</td><td>57</td><td>4.27193</td><td>5</td></tr><tr><td>&quot;Dr. Strangelove or: How I Lear…</td><td>97</td><td>4.268041</td><td>6</td></tr><tr><td>&quot;Rear Window (1954)&quot;</td><td>84</td><td>4.261905</td><td>7</td></tr><tr><td>&quot;Godfather: Part II, The (1974)&quot;</td><td>129</td><td>4.25969</td><td>8</td></tr><tr><td>&quot;Departed, The (2006)&quot;</td><td>107</td><td>4.252336</td><td>9</td></tr><tr><td>&quot;Goodfellas (1990)&quot;</td><td>126</td><td>4.25</td><td>10</td></tr></tbody></table></div>"
      ],
      "text/plain": [
       "shape: (10, 4)\n",
       "┌─────────────────────────────────┬────────┬────────────┬─────┐\n",
       "│ title                           ┆ counts ┆ avg_rating ┆ rn  │\n",
       "│ ---                             ┆ ---    ┆ ---        ┆ --- │\n",
       "│ str                             ┆ u32    ┆ f64        ┆ u32 │\n",
       "╞═════════════════════════════════╪════════╪════════════╪═════╡\n",
       "│ Shawshank Redemption, The (199… ┆ 317    ┆ 4.429022   ┆ 1   │\n",
       "│ Lawrence of Arabia (1962)       ┆ 45     ┆ 4.3        ┆ 2   │\n",
       "│ Godfather, The (1972)           ┆ 192    ┆ 4.2890625  ┆ 3   │\n",
       "│ Fight Club (1999)               ┆ 218    ┆ 4.272936   ┆ 4   │\n",
       "│ Cool Hand Luke (1967)           ┆ 57     ┆ 4.27193    ┆ 5   │\n",
       "│ Dr. Strangelove or: How I Lear… ┆ 97     ┆ 4.268041   ┆ 6   │\n",
       "│ Rear Window (1954)              ┆ 84     ┆ 4.261905   ┆ 7   │\n",
       "│ Godfather: Part II, The (1974)  ┆ 129    ┆ 4.25969    ┆ 8   │\n",
       "│ Departed, The (2006)            ┆ 107    ┆ 4.252336   ┆ 9   │\n",
       "│ Goodfellas (1990)               ┆ 126    ┆ 4.25       ┆ 10  │\n",
       "└─────────────────────────────────┴────────┴────────────┴─────┘"
      ]
     },
     "execution_count": 97,
     "metadata": {},
     "output_type": "execute_result"
    }
   ],
   "source": [
    "# l. Top 10 movies in terms of avg rating (>30 users reviewed)\n",
    "\n",
    "ratings_pl.join(movies_pl, on='movieId', how='left').select(\n",
    "    'title',\n",
    "    pl.col('userId').unique().count().over('movieId').alias('counts'),\n",
    "    pl.mean('rating').over('movieId').alias('avg_rating')\n",
    ").filter(\n",
    "  pl.col('counts') > 30 \n",
    ").unique().with_columns(\n",
    "    rn = pl.col('avg_rating').rank('dense', descending=True)\n",
    "    ).filter(\n",
    "      pl.col('rn') <= 10\n",
    ").sort('rn').collect()\n"
   ]
  }
 ],
 "metadata": {
  "kernelspec": {
   "display_name": "Python 3",
   "language": "python",
   "name": "python3"
  },
  "language_info": {
   "codemirror_mode": {
    "name": "ipython",
    "version": 3
   },
   "file_extension": ".py",
   "mimetype": "text/x-python",
   "name": "python",
   "nbconvert_exporter": "python",
   "pygments_lexer": "ipython3",
   "version": "3.12.5"
  }
 },
 "nbformat": 4,
 "nbformat_minor": 2
}
