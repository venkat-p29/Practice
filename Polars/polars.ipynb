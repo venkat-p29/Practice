{
 "cells": [
  {
   "cell_type": "code",
   "execution_count": 4,
   "metadata": {},
   "outputs": [],
   "source": [
    "import polars as pl\n",
    "\n",
    "movies_pl = pl.scan_csv('movies.csv')\n",
    "ratings_pl = pl.scan_csv('ratings.csv')\n",
    "tags_pl = pl.scan_csv('tags.csv')\n"
   ]
  },
  {
   "cell_type": "code",
   "execution_count": 5,
   "metadata": {},
   "outputs": [],
   "source": [
    "ratings_pl = ratings_pl.with_columns(\n",
    "    pl.from_epoch(pl.col('timestamp'), time_unit='s').alias('datetime_timestamp')\n",
    ").with_columns(\n",
    "    pl.col('datetime_timestamp').dt.year().alias('year'),\n",
    "    pl.col('datetime_timestamp').dt.month().alias('month')\n",
    ").lazy()\n"
   ]
  },
  {
   "cell_type": "code",
   "execution_count": 7,
   "metadata": {},
   "outputs": [
    {
     "data": {
      "text/html": [
       "<div><style>\n",
       ".dataframe > thead > tr,\n",
       ".dataframe > tbody > tr {\n",
       "  text-align: right;\n",
       "  white-space: pre-wrap;\n",
       "}\n",
       "</style>\n",
       "<small>shape: (20, 2)</small><table border=\"1\" class=\"dataframe\"><thead><tr><th>year</th><th># ratings</th></tr><tr><td>i32</td><td>u32</td></tr></thead><tbody><tr><td>2018</td><td>6418</td></tr><tr><td>2017</td><td>8198</td></tr><tr><td>2016</td><td>6703</td></tr><tr><td>2015</td><td>6616</td></tr><tr><td>2014</td><td>1439</td></tr><tr><td>&hellip;</td><td>&hellip;</td></tr><tr><td>2003</td><td>4014</td></tr><tr><td>2002</td><td>3478</td></tr><tr><td>2001</td><td>3922</td></tr><tr><td>2000</td><td>10061</td></tr><tr><td>1999</td><td>2439</td></tr></tbody></table></div>"
      ],
      "text/plain": [
       "shape: (20, 2)\n",
       "┌──────┬───────────┐\n",
       "│ year ┆ # ratings │\n",
       "│ ---  ┆ ---       │\n",
       "│ i32  ┆ u32       │\n",
       "╞══════╪═══════════╡\n",
       "│ 2018 ┆ 6418      │\n",
       "│ 2017 ┆ 8198      │\n",
       "│ 2016 ┆ 6703      │\n",
       "│ 2015 ┆ 6616      │\n",
       "│ 2014 ┆ 1439      │\n",
       "│ …    ┆ …         │\n",
       "│ 2003 ┆ 4014      │\n",
       "│ 2002 ┆ 3478      │\n",
       "│ 2001 ┆ 3922      │\n",
       "│ 2000 ┆ 10061     │\n",
       "│ 1999 ┆ 2439      │\n",
       "└──────┴───────────┘"
      ]
     },
     "execution_count": 7,
     "metadata": {},
     "output_type": "execute_result"
    }
   ],
   "source": [
    "# a. Show the aggregated number of ratings per year\n",
    "\n",
    "ratings_by_year = ratings_pl.group_by('year').agg(\n",
    "    pl.count('rating').alias('# ratings')\n",
    ").sort('year', descending=True)\n",
    "\n",
    "ratings_by_year.collect().head(20)"
   ]
  },
  {
   "cell_type": "code",
   "execution_count": 8,
   "metadata": {},
   "outputs": [
    {
     "data": {
      "text/html": [
       "<div><style>\n",
       ".dataframe > thead > tr,\n",
       ".dataframe > tbody > tr {\n",
       "  text-align: right;\n",
       "  white-space: pre-wrap;\n",
       "}\n",
       "</style>\n",
       "<small>shape: (20, 3)</small><table border=\"1\" class=\"dataframe\"><thead><tr><th>month</th><th>year</th><th># ratings</th></tr><tr><td>i8</td><td>i32</td><td>f64</td></tr></thead><tbody><tr><td>9</td><td>2018</td><td>3.568709</td></tr><tr><td>8</td><td>2018</td><td>3.557762</td></tr><tr><td>7</td><td>2018</td><td>4.010239</td></tr><tr><td>6</td><td>2018</td><td>3.979714</td></tr><tr><td>5</td><td>2018</td><td>2.95163</td></tr><tr><td>&hellip;</td><td>&hellip;</td><td>&hellip;</td></tr><tr><td>6</td><td>2017</td><td>2.959424</td></tr><tr><td>5</td><td>2017</td><td>3.480184</td></tr><tr><td>4</td><td>2017</td><td>3.626219</td></tr><tr><td>3</td><td>2017</td><td>3.051002</td></tr><tr><td>2</td><td>2017</td><td>2.754762</td></tr></tbody></table></div>"
      ],
      "text/plain": [
       "shape: (20, 3)\n",
       "┌───────┬──────┬───────────┐\n",
       "│ month ┆ year ┆ # ratings │\n",
       "│ ---   ┆ ---  ┆ ---       │\n",
       "│ i8    ┆ i32  ┆ f64       │\n",
       "╞═══════╪══════╪═══════════╡\n",
       "│ 9     ┆ 2018 ┆ 3.568709  │\n",
       "│ 8     ┆ 2018 ┆ 3.557762  │\n",
       "│ 7     ┆ 2018 ┆ 4.010239  │\n",
       "│ 6     ┆ 2018 ┆ 3.979714  │\n",
       "│ 5     ┆ 2018 ┆ 2.95163   │\n",
       "│ …     ┆ …    ┆ …         │\n",
       "│ 6     ┆ 2017 ┆ 2.959424  │\n",
       "│ 5     ┆ 2017 ┆ 3.480184  │\n",
       "│ 4     ┆ 2017 ┆ 3.626219  │\n",
       "│ 3     ┆ 2017 ┆ 3.051002  │\n",
       "│ 2     ┆ 2017 ┆ 2.754762  │\n",
       "└───────┴──────┴───────────┘"
      ]
     },
     "execution_count": 8,
     "metadata": {},
     "output_type": "execute_result"
    }
   ],
   "source": [
    "# b. Show the average monthly number of ratings\n",
    "\n",
    "avg_monthly = ratings_pl.group_by('month', 'year').agg(\n",
    "    pl.mean('rating').alias('# ratings')\n",
    ").sort(['year', 'month'], descending=True)\n",
    "\n",
    "avg_monthly.collect().head(20)\n"
   ]
  },
  {
   "cell_type": "code",
   "execution_count": null,
   "metadata": {},
   "outputs": [],
   "source": [
    "# c. Show the rating levels distribution"
   ]
  },
  {
   "cell_type": "code",
   "execution_count": 9,
   "metadata": {},
   "outputs": [
    {
     "data": {
      "text/html": [
       "<div><style>\n",
       ".dataframe > thead > tr,\n",
       ".dataframe > tbody > tr {\n",
       "  text-align: right;\n",
       "  white-space: pre-wrap;\n",
       "}\n",
       "</style>\n",
       "<small>shape: (18, 1)</small><table border=\"1\" class=\"dataframe\"><thead><tr><th>title</th></tr><tr><td>str</td></tr></thead><tbody><tr><td>&quot;Browning Version, The (1951)&quot;</td></tr><tr><td>&quot;Call Northside 777 (1948)&quot;</td></tr><tr><td>&quot;Chalet Girl (2011)&quot;</td></tr><tr><td>&quot;Chosen, The (1981)&quot;</td></tr><tr><td>&quot;Color of Paradise, The (Rang-e…</td></tr><tr><td>&hellip;</td></tr><tr><td>&quot;Road Home, The (Wo de fu qin m…</td></tr><tr><td>&quot;Roaring Twenties, The (1939)&quot;</td></tr><tr><td>&quot;Scrooge (1970)&quot;</td></tr><tr><td>&quot;This Gun for Hire (1942)&quot;</td></tr><tr><td>&quot;Twentieth Century (1934)&quot;</td></tr></tbody></table></div>"
      ],
      "text/plain": [
       "shape: (18, 1)\n",
       "┌─────────────────────────────────┐\n",
       "│ title                           │\n",
       "│ ---                             │\n",
       "│ str                             │\n",
       "╞═════════════════════════════════╡\n",
       "│ Browning Version, The (1951)    │\n",
       "│ Call Northside 777 (1948)       │\n",
       "│ Chalet Girl (2011)              │\n",
       "│ Chosen, The (1981)              │\n",
       "│ Color of Paradise, The (Rang-e… │\n",
       "│ …                               │\n",
       "│ Road Home, The (Wo de fu qin m… │\n",
       "│ Roaring Twenties, The (1939)    │\n",
       "│ Scrooge (1970)                  │\n",
       "│ This Gun for Hire (1942)        │\n",
       "│ Twentieth Century (1934)        │\n",
       "└─────────────────────────────────┘"
      ]
     },
     "execution_count": 9,
     "metadata": {},
     "output_type": "execute_result"
    }
   ],
   "source": [
    "# d. Show the 18 movies that are tagged but not rated\n",
    "\n",
    "tags_pl_joined = tags_pl.join(ratings_pl, on='movieId', how='left').filter(pl.col('rating').is_null())\n",
    "tags_pl_joined.join(movies_pl, on='movieId', how='inner').select(pl.col('title')).unique().sort('title').collect()"
   ]
  },
  {
   "cell_type": "code",
   "execution_count": 10,
   "metadata": {},
   "outputs": [
    {
     "data": {
      "text/html": [
       "<div><style>\n",
       ".dataframe > thead > tr,\n",
       ".dataframe > tbody > tr {\n",
       "  text-align: right;\n",
       "  white-space: pre-wrap;\n",
       "}\n",
       "</style>\n",
       "<small>shape: (20, 1)</small><table border=\"1\" class=\"dataframe\"><thead><tr><th>title</th></tr><tr><td>str</td></tr></thead><tbody><tr><td>&quot;&#x27;71 (2014)&quot;</td></tr><tr><td>&quot;&#x27;Hellboy&#x27;: The Seeds of Creati…</td></tr><tr><td>&quot;&#x27;Round Midnight (1986)&quot;</td></tr><tr><td>&quot;&#x27;Salem&#x27;s Lot (2004)&quot;</td></tr><tr><td>&quot;&#x27;Til There Was You (1997)&quot;</td></tr><tr><td>&hellip;</td></tr><tr><td>&quot;10 Years (2011)&quot;</td></tr><tr><td>&quot;10,000 BC (2008)&quot;</td></tr><tr><td>&quot;100 Girls (2000)&quot;</td></tr><tr><td>&quot;100 Streets (2016)&quot;</td></tr><tr><td>&quot;101 Dalmatians II: Patch&#x27;s Lon…</td></tr></tbody></table></div>"
      ],
      "text/plain": [
       "shape: (20, 1)\n",
       "┌─────────────────────────────────┐\n",
       "│ title                           │\n",
       "│ ---                             │\n",
       "│ str                             │\n",
       "╞═════════════════════════════════╡\n",
       "│ '71 (2014)                      │\n",
       "│ 'Hellboy': The Seeds of Creati… │\n",
       "│ 'Round Midnight (1986)          │\n",
       "│ 'Salem's Lot (2004)             │\n",
       "│ 'Til There Was You (1997)       │\n",
       "│ …                               │\n",
       "│ 10 Years (2011)                 │\n",
       "│ 10,000 BC (2008)                │\n",
       "│ 100 Girls (2000)                │\n",
       "│ 100 Streets (2016)              │\n",
       "│ 101 Dalmatians II: Patch's Lon… │\n",
       "└─────────────────────────────────┘"
      ]
     },
     "execution_count": 10,
     "metadata": {},
     "output_type": "execute_result"
    }
   ],
   "source": [
    "# e. Show the movies that have rating but no tag\n",
    "\n",
    "#.select('movieId').unique()\n",
    "ratings_pl_joined = ratings_pl.join(tags_pl, on='movieId', how='left').filter(pl.col('tag').is_null())\n",
    "ratings_pl_joined.join(movies_pl, on='movieId', how='inner').select(pl.col('title')).unique().sort('title').collect().head(20)"
   ]
  },
  {
   "cell_type": "code",
   "execution_count": 11,
   "metadata": {},
   "outputs": [
    {
     "data": {
      "text/html": [
       "<div><style>\n",
       ".dataframe > thead > tr,\n",
       ".dataframe > tbody > tr {\n",
       "  text-align: right;\n",
       "  white-space: pre-wrap;\n",
       "}\n",
       "</style>\n",
       "<small>shape: (10, 3)</small><table border=\"1\" class=\"dataframe\"><thead><tr><th>title</th><th>avg_ratings</th><th># ratings</th></tr><tr><td>str</td><td>f64</td><td>u32</td></tr></thead><tbody><tr><td>&quot;American Beauty (1999)&quot;</td><td>4.056373</td><td>204</td></tr><tr><td>&quot;Ace Ventura: Pet Detective (19…</td><td>3.040373</td><td>161</td></tr><tr><td>&quot;Mask, The (1994)&quot;</td><td>3.184713</td><td>157</td></tr><tr><td>&quot;Die Hard (1988)&quot;</td><td>3.862069</td><td>145</td></tr><tr><td>&quot;Die Hard: With a Vengeance (19…</td><td>3.555556</td><td>144</td></tr><tr><td>&quot;Groundhog Day (1993)&quot;</td><td>3.944056</td><td>143</td></tr><tr><td>&quot;Dumb &amp; Dumber (Dumb and Dumber…</td><td>3.06015</td><td>133</td></tr><tr><td>&quot;GoldenEye (1995)&quot;</td><td>3.496212</td><td>132</td></tr><tr><td>&quot;Monsters, Inc. (2001)&quot;</td><td>3.871212</td><td>132</td></tr><tr><td>&quot;Austin Powers: The Spy Who Sha…</td><td>3.198347</td><td>121</td></tr></tbody></table></div>"
      ],
      "text/plain": [
       "shape: (10, 3)\n",
       "┌─────────────────────────────────┬─────────────┬───────────┐\n",
       "│ title                           ┆ avg_ratings ┆ # ratings │\n",
       "│ ---                             ┆ ---         ┆ ---       │\n",
       "│ str                             ┆ f64         ┆ u32       │\n",
       "╞═════════════════════════════════╪═════════════╪═══════════╡\n",
       "│ American Beauty (1999)          ┆ 4.056373    ┆ 204       │\n",
       "│ Ace Ventura: Pet Detective (19… ┆ 3.040373    ┆ 161       │\n",
       "│ Mask, The (1994)                ┆ 3.184713    ┆ 157       │\n",
       "│ Die Hard (1988)                 ┆ 3.862069    ┆ 145       │\n",
       "│ Die Hard: With a Vengeance (19… ┆ 3.555556    ┆ 144       │\n",
       "│ Groundhog Day (1993)            ┆ 3.944056    ┆ 143       │\n",
       "│ Dumb & Dumber (Dumb and Dumber… ┆ 3.06015     ┆ 133       │\n",
       "│ GoldenEye (1995)                ┆ 3.496212    ┆ 132       │\n",
       "│ Monsters, Inc. (2001)           ┆ 3.871212    ┆ 132       │\n",
       "│ Austin Powers: The Spy Who Sha… ┆ 3.198347    ┆ 121       │\n",
       "└─────────────────────────────────┴─────────────┴───────────┘"
      ]
     },
     "execution_count": 11,
     "metadata": {},
     "output_type": "execute_result"
    }
   ],
   "source": [
    "# f. Focusing on the rated untagged movies with more than 30 user ratings,show the top 10 movies in terms of average rating and number of ratings\n",
    "\n",
    "rated_untagged = ratings_pl_joined.group_by('movieId').agg(\n",
    "    pl.count('rating').alias('# ratings'),\n",
    "    pl.mean('rating').alias('avg_ratings')\n",
    ").filter(\n",
    "    pl.col('# ratings') > 30\n",
    ")\n",
    "\n",
    "rated_untagged = rated_untagged.join(movies_pl, on='movieId', how='inner').select(pl.col('title'), pl.col('avg_ratings'), pl.col('# ratings'))\n",
    "rated_untagged.sort('avg_ratings', descending=True).collect().head(10)\n",
    "rated_untagged.sort('# ratings', descending=True).collect().head(10)\n"
   ]
  },
  {
   "cell_type": "code",
   "execution_count": 12,
   "metadata": {},
   "outputs": [],
   "source": [
    "# g. What is the average number of tags per movie in tagsDF? And the average number of tags per user? How does it compare with the average number of tags a user assigns to a movie?"
   ]
  },
  {
   "cell_type": "code",
   "execution_count": 13,
   "metadata": {},
   "outputs": [
    {
     "data": {
      "text/html": [
       "<div><style>\n",
       ".dataframe > thead > tr,\n",
       ".dataframe > tbody > tr {\n",
       "  text-align: right;\n",
       "  white-space: pre-wrap;\n",
       "}\n",
       "</style>\n",
       "<small>shape: (4, 1)</small><table border=\"1\" class=\"dataframe\"><thead><tr><th>userId</th></tr><tr><td>i64</td></tr></thead><tbody><tr><td>318</td></tr><tr><td>474</td></tr><tr><td>543</td></tr><tr><td>288</td></tr></tbody></table></div>"
      ],
      "text/plain": [
       "shape: (4, 1)\n",
       "┌────────┐\n",
       "│ userId │\n",
       "│ ---    │\n",
       "│ i64    │\n",
       "╞════════╡\n",
       "│ 318    │\n",
       "│ 474    │\n",
       "│ 543    │\n",
       "│ 288    │\n",
       "└────────┘"
      ]
     },
     "execution_count": 13,
     "metadata": {},
     "output_type": "execute_result"
    }
   ],
   "source": [
    "# h. Identify the users that tagged movies without rating them\n",
    "\n",
    "tags_pl_joined = tags_pl.join(ratings_pl, on='movieId', how='left').filter(pl.col('rating').is_null())\n",
    "tags_pl_joined.select(pl.col('userId')).unique().collect()"
   ]
  },
  {
   "cell_type": "code",
   "execution_count": 14,
   "metadata": {},
   "outputs": [
    {
     "data": {
      "text/html": [
       "<div><style>\n",
       ".dataframe > thead > tr,\n",
       ".dataframe > tbody > tr {\n",
       "  text-align: right;\n",
       "  white-space: pre-wrap;\n",
       "}\n",
       "</style>\n",
       "<small>shape: (1, 1)</small><table border=\"1\" class=\"dataframe\"><thead><tr><th>avg_no_of_ratings_per_user</th></tr><tr><td>f64</td></tr></thead><tbody><tr><td>10.37</td></tr></tbody></table></div>"
      ],
      "text/plain": [
       "shape: (1, 1)\n",
       "┌────────────────────────────┐\n",
       "│ avg_no_of_ratings_per_user │\n",
       "│ ---                        │\n",
       "│ f64                        │\n",
       "╞════════════════════════════╡\n",
       "│ 10.37                      │\n",
       "└────────────────────────────┘"
      ]
     },
     "execution_count": 14,
     "metadata": {},
     "output_type": "execute_result"
    }
   ],
   "source": [
    "# i. What is the average number of ratings per user in ratings DF? And the average number of ratings per movie?\n",
    "\n",
    "ratings_pl = ratings_pl.filter(pl.col('rating').is_not_null())\n",
    "\n",
    "ratings_pl.select(\n",
    "    'userId',\n",
    "    pl.col('rating').count().alias('# ratings'),\n",
    "    pl.col('userId').unique().count().alias('# users')\n",
    ").select(\n",
    "    (pl.col('# ratings') / pl.col('# users')).round(3).alias('avg_no_of_ratings_per_user')\n",
    ").collect()\n",
    "\n",
    "ratings_pl.select(\n",
    "    'userId',\n",
    "    pl.col('rating').count().alias('# ratings'),\n",
    "    pl.col('movieId').unique().count().alias('# users')\n",
    ").select(\n",
    "    (pl.col('# ratings') / pl.col('# users')).round(3).alias('avg_no_of_ratings_per_user')\n",
    ").collect()\n"
   ]
  },
  {
   "cell_type": "code",
   "execution_count": 15,
   "metadata": {},
   "outputs": [
    {
     "name": "stdout",
     "output_type": "stream",
     "text": [
      "shape: (10, 3)\n",
      "┌────────┬────────────────────┬─────────────┐\n",
      "│ rating ┆ genres             ┆ genre_count │\n",
      "│ ---    ┆ ---                ┆ ---         │\n",
      "│ f64    ┆ str                ┆ u32         │\n",
      "╞════════╪════════════════════╪═════════════╡\n",
      "│ 0.5    ┆ (no genres listed) ┆ 2           │\n",
      "│ 1.0    ┆ (no genres listed) ┆ 2           │\n",
      "│ 1.5    ┆ Documentary        ┆ 2           │\n",
      "│ 2.0    ┆ (no genres listed) ┆ 2           │\n",
      "│ 2.5    ┆ (no genres listed) ┆ 6           │\n",
      "│ 3.0    ┆ (no genres listed) ┆ 6           │\n",
      "│ 3.5    ┆ (no genres listed) ┆ 6           │\n",
      "│ 4.0    ┆ (no genres listed) ┆ 8           │\n",
      "│ 4.5    ┆ (no genres listed) ┆ 8           │\n",
      "│ 5.0    ┆ (no genres listed) ┆ 7           │\n",
      "└────────┴────────────────────┴─────────────┘\n"
     ]
    }
   ],
   "source": [
    "# j. What is the predominant (frequency based) genre per rating level?\n",
    "\n",
    "'''\n",
    "ratings_pl.join(movies_pl, on='movieId', how='left').select(\n",
    "    'movieId',\n",
    "    'rating',\n",
    "    'genres'\n",
    ").group_by([\"rating\", \"genres\"]).agg(\n",
    "    pl.count(\"genres\").alias(\"genre_count\")\n",
    ").sort(by=[\"rating\", \"genre_count\"]).unique(subset=\"rating\").collect()\n",
    "'''\n",
    "\n",
    "merged_df = ratings_pl.join(movies_pl, on='movieId', how='left').select(\n",
    "    'movieId',\n",
    "    'rating',\n",
    "    'genres'\n",
    ")\n",
    "\n",
    "# Step 2: Split the 'genres' column by '|' into a list\n",
    "merged_df = merged_df.with_columns(\n",
    "    pl.col(\"genres\").str.split(\"|\")\n",
    ")\n",
    "\n",
    "# Step 3: Explode the genres column to have one genre per row\n",
    "exploded_df = merged_df.explode(\"genres\")\n",
    "\n",
    "# Step 4: Group by 'rating' and 'genre' to count occurrences\n",
    "genre_counts = exploded_df.group_by([\"rating\", \"genres\"]).agg(\n",
    "    pl.count(\"genres\").alias(\"genre_count\")\n",
    ")\n",
    "\n",
    "# Step 5: Find the predominant genre for each rating level\n",
    "# - Sort by 'rating' and 'genre_count' in descending order\n",
    "# - Use 'unique' to ensure we get the top genre for each rating\n",
    "\n",
    "predominant_genres = genre_counts.sort(by=[\"rating\", \"genre_count\"]).unique(subset=\"rating\")\n",
    "\n",
    "# Display the result\n",
    "print(predominant_genres.collect())\n"
   ]
  }
 ],
 "metadata": {
  "kernelspec": {
   "display_name": "Python 3",
   "language": "python",
   "name": "python3"
  },
  "language_info": {
   "codemirror_mode": {
    "name": "ipython",
    "version": 3
   },
   "file_extension": ".py",
   "mimetype": "text/x-python",
   "name": "python",
   "nbconvert_exporter": "python",
   "pygments_lexer": "ipython3",
   "version": "3.12.5"
  }
 },
 "nbformat": 4,
 "nbformat_minor": 2
}
